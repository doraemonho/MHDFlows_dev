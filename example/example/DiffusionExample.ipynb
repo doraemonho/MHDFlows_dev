{
 "cells": [
  {
   "cell_type": "markdown",
   "id": "following-bullet",
   "metadata": {},
   "source": [
    "# Example 1. Difussion \n",
    "\n",
    "This example aim to set up a simple diffussion problem for demostrating the workflow of running the problem on CPU and also ploting the result"
   ]
  },
  {
   "cell_type": "code",
   "execution_count": 1,
   "id": "complete-brook",
   "metadata": {
    "tags": []
   },
   "outputs": [
    {
     "name": "stderr",
     "output_type": "stream",
     "text": [
      "┌ Info: FourierFlows will use 4 threads\n",
      "└ @ FourierFlows /home/doraho/.julia/packages/FourierFlows/DtzuG/src/FourierFlows.jl:123\n"
     ]
    }
   ],
   "source": [
    "using MHDFlows,PyPlot\n",
    "using LinearAlgebra: mul!, ldiv!"
   ]
  },
  {
   "cell_type": "code",
   "execution_count": 7,
   "id": "molecular-appendix",
   "metadata": {},
   "outputs": [
    {
     "data": {
      "text/plain": [
       "Problem\n",
       "  ├─────────── grid: grid (on CPU)\n",
       "  ├───── parameters: params\n",
       "  ├────── variables: vars\n",
       "  ├─── state vector: sol\n",
       "  ├─────── equation: eqn\n",
       "  ├────────── clock: clock\n",
       "  └──── timestepper: RK4TimeStepper"
      ]
     },
     "execution_count": 7,
     "metadata": {},
     "output_type": "execute_result"
    }
   ],
   "source": [
    "# Declare the problem on CPU\n",
    "CPUprob  = MHDProblem(CPU();nx = 32,Lx = 2π,\n",
    "                             ν = 1/10,\n",
    "                            nν = 1,\n",
    "                             η = 1/10, \n",
    "              # Timestepper and equation options\n",
    "                            dt = 1/50,\n",
    "                       stepper = \"RK4\",\n",
    "              # Float type and dealiasing\n",
    "                             T = Float64);\n",
    "CPUprob"
   ]
  },
  {
   "cell_type": "code",
   "execution_count": 3,
   "id": "juvenile-child",
   "metadata": {},
   "outputs": [
    {
     "data": {
      "text/plain": [
       "ProblemGenerator3D! (generic function with 1 method)"
      ]
     },
     "execution_count": 3,
     "metadata": {},
     "output_type": "execute_result"
    }
   ],
   "source": [
    "# function of setting up the initial condition\n",
    "function ProblemGenerator3D!(prob,L;N = prob.grid.nx)\n",
    "\n",
    "  xx,yy,zz = fill(0.0,N,N,N),fill(0.0,N,N,N),fill(0.0,N,N,N);\n",
    "  \n",
    "  for k ∈ 1:N, j ∈ 1:N, i ∈ 1:N\n",
    "    xx[i,j,k] = prob.grid.x[i];\n",
    "    yy[i,j,k] = prob.grid.y[j];\n",
    "    zz[i,j,k] = prob.grid.z[k];\n",
    "  end\n",
    "    \n",
    "  sl=1; sk=1; sm=1; lamlkm=sqrt(sl.^2+sk.^2+sm.^2);\n",
    "\n",
    "  ux = @. -0.5*(lamlkm*sl*cos(sk*xx).*sin(sl*yy).*sin(sm.*zz) +sm*sk*sin(sk*xx).*cos(sl*yy).*cos(sm.*zz));\n",
    "  uy=  @.  0.5*(lamlkm*sk*sin(sk*xx).*cos(sl*yy).*sin(sm.*zz)-sm*sl*cos(sk*xx).*sin(sl*yy).*cos(sm.*zz));\n",
    "  uz=  @.                 cos(sk*xx).*cos(sl*yy).*sin(sm.*zz);\n",
    "\n",
    "  bx = @. fill(0.0,N,N,N);\n",
    "  by = @. fill(0.0,N,N,N);\n",
    "  bz = @. fill(0.0,N,N,N);\n",
    "\n",
    "  \n",
    "  copyto!(prob.vars.ux, ux);\n",
    "  copyto!(prob.vars.uy, uy);\n",
    "  copyto!(prob.vars.uz, uz);\n",
    "  copyto!(prob.vars.bx, bx);\n",
    "  copyto!(prob.vars.by, by);\n",
    "  copyto!(prob.vars.bz, bz);\n",
    "    \n",
    "  #Update V + B Fourier Conponment\n",
    "  uxh = prob.sol[:, :, :, prob.params.ux_ind];\n",
    "  uyh = prob.sol[:, :, :, prob.params.uy_ind];\n",
    "  uzh = prob.sol[:, :, :, prob.params.uz_ind];\n",
    "    \n",
    "  bxh = prob.sol[:, :, :, prob.params.bx_ind];\n",
    "  byh = prob.sol[:, :, :, prob.params.by_ind];\n",
    "  bzh = prob.sol[:, :, :, prob.params.bz_ind];\n",
    "\n",
    "  mul!(uxh, prob.grid.rfftplan, prob.vars.ux);   \n",
    "  mul!(uyh, prob.grid.rfftplan, prob.vars.uy);\n",
    "  mul!(uzh, prob.grid.rfftplan, prob.vars.uz);\n",
    "  mul!(bxh, prob.grid.rfftplan, prob.vars.bx);\n",
    "  mul!(byh, prob.grid.rfftplan, prob.vars.by);\n",
    "  mul!(bzh, prob.grid.rfftplan, prob.vars.bz);\n",
    "  \n",
    "  prob.sol[:, :, :, prob.params.ux_ind] .= uxh;\n",
    "  prob.sol[:, :, :, prob.params.uy_ind] .= uyh;\n",
    "  prob.sol[:, :, :, prob.params.uz_ind] .= uzh;\n",
    "  prob.sol[:, :, :, prob.params.bx_ind] .= bxh;\n",
    "  prob.sol[:, :, :, prob.params.by_ind] .= byh;\n",
    "  prob.sol[:, :, :, prob.params.bz_ind] .= bzh;\n",
    "\n",
    "  MHDupdatevars!(prob);\n",
    "\n",
    "  return nothing\n",
    "    \n",
    "end"
   ]
  },
  {
   "cell_type": "code",
   "execution_count": 4,
   "id": "polar-phenomenon",
   "metadata": {
    "tags": []
   },
   "outputs": [],
   "source": [
    "#function for monitoring the energy\n",
    "function KEfoo(prob)\n",
    "    vx,vy,vz = prob.vars.ux,prob.vars.uy,prob.vars.uz;\n",
    "    return sum(vx.^2+vy.^2 + vz.^2)\n",
    "end\n",
    "\n",
    "function MEfoo(prob)\n",
    "    bx,by,bz = prob.vars.bx,prob.vars.by,prob.vars.bz;\n",
    "    return sum(bx.^2+by.^2 + bz.^2)\n",
    "end\n",
    "\n",
    "KE = Diagnostic(KEfoo, CPUprob);\n",
    "ME = Diagnostic(MEfoo, CPUprob);"
   ]
  },
  {
   "cell_type": "code",
   "execution_count": 5,
   "id": "middle-carpet",
   "metadata": {
    "tags": []
   },
   "outputs": [],
   "source": [
    "# Set up the initial condition\n",
    "ProblemGenerator3D!(CPUprob,2π);\n",
    "\n",
    "# Actaul computation\n",
    "for i = 1:100\n",
    "    MHDupdatevars!(CPUprob);\n",
    "    stepforward!(CPUprob, [KE, ME],1)\n",
    "end"
   ]
  },
  {
   "cell_type": "markdown",
   "id": "missing-disabled",
   "metadata": {},
   "source": [
    "## Result"
   ]
  },
  {
   "cell_type": "code",
   "execution_count": 6,
   "id": "interpreted-bunny",
   "metadata": {},
   "outputs": [
    {
     "data": {
      "image/png": "[encoded data removed]",
      "text/plain": [
       "Figure(PyObject <Figure size 640x480 with 1 Axes>)"
      ]
     },
     "metadata": {},
     "output_type": "display_data"
    },
    {
     "data": {
      "text/plain": [
       "PyObject Text(30.0, 0.5, 'KE [code unit]')"
      ]
     },
     "execution_count": 6,
     "metadata": {},
     "output_type": "execute_result"
    }
   ],
   "source": [
    "t  = KE.t[2:end-1];\n",
    "u0 = KE.data[2];\n",
    "plot(KE.t[2:end-1],KE.data[2:end-1],\"r\",label=L\"U^2\")\n",
    "semilogy(KE.t[2:end-1],exp.(-2*3*(t.-t[1])/10)*u0*0.8,\"k--\",label=L\"OffSet\\:predicted\\:KE\");\n",
    "legend()\n",
    "xlabel(\"t  [code unit]\",size=16)\n",
    "ylabel(\"KE [code unit]\",size=16)"
   ]
  },
  {
   "cell_type": "code",
   "execution_count": null,
   "id": "developed-smooth",
   "metadata": {},
   "outputs": [],
   "source": []
  }
 ],
 "metadata": {
  "kernelspec": {
   "display_name": "Julia 4 Threads 1.5.3",
   "language": "julia",
   "name": "julia-4-threads-1.5"
  },
  "language_info": {
   "file_extension": ".jl",
   "mimetype": "application/julia",
   "name": "julia",
   "version": "1.5.3"
  }
 },
 "nbformat": 4,
 "nbformat_minor": 5
}
