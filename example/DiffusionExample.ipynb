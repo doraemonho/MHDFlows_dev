{
 "cells": [
  {
   "cell_type": "markdown",
   "id": "parliamentary-salmon",
   "metadata": {},
   "source": [
    "# Example 1. Difussion \n",
    "\n",
    "This example aim to set up a simple diffussion problem for demostrating the workflow of running the problem on CPU and also ploting the result"
   ]
  },
  {
   "cell_type": "code",
   "execution_count": 1,
   "id": "controlling-progress",
   "metadata": {
    "tags": []
   },
   "outputs": [
    {
     "name": "stderr",
     "output_type": "stream",
     "text": [
      "┌ Info: Precompiling MHDFlows [top-level]\n",
      "└ @ Base loading.jl:1423\n",
      "\u001b[36m\u001b[1m[ \u001b[22m\u001b[39m\u001b[36m\u001b[1mInfo: \u001b[22m\u001b[39mFourierFlows will use 8 threads\n",
      "┌ Info: FourierFlows will use 8 threads\n",
      "└ @ FourierFlows /home/doraho/.julia/packages/FourierFlows/2BZya/src/FourierFlows.jl:123\n"
     ]
    }
   ],
   "source": [
    "using MHDFlows,PyPlot\n",
    "using LinearAlgebra: mul!, ldiv!"
   ]
  },
  {
   "cell_type": "code",
   "execution_count": 2,
   "id": "proprietary-columbus",
   "metadata": {},
   "outputs": [
    {
     "data": {
      "text/plain": [
       "MHDFlows Problem\n",
       "  │    Funtions\n",
       "  │     ├──────── B-field: OFF\n",
       "  ├─────├────── VP Method: OFF\n",
       "  │     ├──────────── Dye: OFF\n",
       "  │     └── user function: OFF\n",
       "  │                        \n",
       "  │     Features           \n",
       "  │     ├─────────── grid: grid (on CPU)\n",
       "  │     ├───── parameters: params\n",
       "  │     ├────── variables: vars\n",
       "  └─────├─── state vector: sol\n",
       "        ├─────── equation: eqn\n",
       "        ├────────── clock: clock\n",
       "        └──── timestepper: RK4TimeStepper"
      ]
     },
     "execution_count": 2,
     "metadata": {},
     "output_type": "execute_result"
    }
   ],
   "source": [
    "# Declare the problem on CPU\n",
    "CPUprob  = Problem(CPU();nx = 32,Lx = 2π,\n",
    "                                  ν = 1/10,\n",
    "                                 nν = 1,\n",
    "                                  η = 1/10, \n",
    "                   # Timestepper and equation options\n",
    "                                 dt = 1/50,\n",
    "                            stepper = \"RK4\",\n",
    "                   # Float type and dealiasing\n",
    "                                  T = Float64);\n",
    "CPUprob"
   ]
  },
  {
   "cell_type": "code",
   "execution_count": 3,
   "id": "indoor-shanghai",
   "metadata": {},
   "outputs": [
    {
     "data": {
      "text/plain": [
       "ProblemGenerator3D! (generic function with 1 method)"
      ]
     },
     "execution_count": 3,
     "metadata": {},
     "output_type": "execute_result"
    }
   ],
   "source": [
    "# function of setting up the initial condition\n",
    "function ProblemGenerator3D!(prob,L;N = prob.grid.nx)\n",
    "\n",
    "  xx,yy,zz = fill(0.0,N,N,N),fill(0.0,N,N,N),fill(0.0,N,N,N);\n",
    "  \n",
    "  for k ∈ 1:N, j ∈ 1:N, i ∈ 1:N\n",
    "    xx[i,j,k] = prob.grid.x[i];\n",
    "    yy[i,j,k] = prob.grid.y[j];\n",
    "    zz[i,j,k] = prob.grid.z[k];\n",
    "  end\n",
    "    \n",
    "  sl=1; sk=1; sm=1; lamlkm=sqrt(sl.^2+sk.^2+sm.^2);\n",
    "\n",
    "  ux = @. -0.5*(lamlkm*sl*cos(sk*xx).*sin(sl*yy).*sin(sm.*zz) +sm*sk*sin(sk*xx).*cos(sl*yy).*cos(sm.*zz));\n",
    "  uy=  @.  0.5*(lamlkm*sk*sin(sk*xx).*cos(sl*yy).*sin(sm.*zz)-sm*sl*cos(sk*xx).*sin(sl*yy).*cos(sm.*zz));\n",
    "  uz=  @.                 cos(sk*xx).*cos(sl*yy).*sin(sm.*zz);\n",
    "\n",
    "  \n",
    "  copyto!(prob.vars.ux, ux);\n",
    "  copyto!(prob.vars.uy, uy);\n",
    "  copyto!(prob.vars.uz, uz);\n",
    "\n",
    "    \n",
    "  #Update V + B Fourier Conponment\n",
    "  uxh = prob.sol[:, :, :, prob.params.ux_ind];\n",
    "  uyh = prob.sol[:, :, :, prob.params.uy_ind];\n",
    "  uzh = prob.sol[:, :, :, prob.params.uz_ind];\n",
    "\n",
    "\n",
    "  mul!(uxh, prob.grid.rfftplan, prob.vars.ux);   \n",
    "  mul!(uyh, prob.grid.rfftplan, prob.vars.uy);\n",
    "  mul!(uzh, prob.grid.rfftplan, prob.vars.uz);\n",
    "  \n",
    "  prob.sol[:, :, :, prob.params.ux_ind] .= uxh;\n",
    "  prob.sol[:, :, :, prob.params.uy_ind] .= uyh;\n",
    "  prob.sol[:, :, :, prob.params.uz_ind] .= uzh;\n",
    "\n",
    "  return nothing\n",
    "    \n",
    "end"
   ]
  },
  {
   "cell_type": "code",
   "execution_count": 4,
   "id": "increasing-gibson",
   "metadata": {
    "tags": []
   },
   "outputs": [],
   "source": [
    "#function for monitoring the energy\n",
    "function KEfoo(prob)\n",
    "    vx,vy,vz = prob.vars.ux,prob.vars.uy,prob.vars.uz;\n",
    "    return sum(vx.^2+vy.^2 + vz.^2)\n",
    "end\n",
    "\n",
    "KE = MHDFlows.Diagnostic(KEfoo, CPUprob);"
   ]
  },
  {
   "cell_type": "code",
   "execution_count": 5,
   "id": "lucky-algeria",
   "metadata": {
    "tags": []
   },
   "outputs": [],
   "source": [
    "# Set up the initial condition\n",
    "ProblemGenerator3D!(CPUprob,2π);\n",
    "\n",
    "# Actaul computation\n",
    "TimeIntegrator!(CPUprob,5.0,100;\n",
    "                diags = [KE],\n",
    "          loop_number = 100,\n",
    "\t             save = false);"
   ]
  },
  {
   "cell_type": "markdown",
   "id": "thrown-sauce",
   "metadata": {},
   "source": [
    "## Result"
   ]
  },
  {
   "cell_type": "code",
   "execution_count": 6,
   "id": "black-annual",
   "metadata": {},
   "outputs": [
    {
     "data": {
      "image/png": "[encoded data removed]",
      "text/plain": [
       "Figure(PyObject <Figure size 640x480 with 1 Axes>)"
      ]
     },
     "metadata": {},
     "output_type": "display_data"
    },
    {
     "data": {
      "text/plain": [
       "PyObject Text(30.000000000000007, 0.5, 'KE [code unit]')"
      ]
     },
     "execution_count": 6,
     "metadata": {},
     "output_type": "execute_result"
    }
   ],
   "source": [
    "n = KE.i\n",
    "t  = KE.t[2:n];\n",
    "u0 = KE.data[2];\n",
    "plot(KE.t[2:n],KE.data[2:n],\"r\",label=L\"U^2\")\n",
    "semilogy(KE.t[2:n],exp.(-2*3*(t.-t[1])/10)*u0*0.8,\"k--\",label=L\"OffSet\\:predicted\\:KE\");\n",
    "legend()\n",
    "xlabel(\"t  [code unit]\",size=16)\n",
    "ylabel(\"KE [code unit]\",size=16)"
   ]
  }
 ],
 "metadata": {
  "kernelspec": {
   "display_name": "Julia (8 threads) 1.7.3",
   "language": "julia",
   "name": "julia-(8-threads)-1.7"
  },
  "language_info": {
   "file_extension": ".jl",
   "mimetype": "application/julia",
   "name": "julia",
   "version": "1.7.3"
  }
 },
 "nbformat": 4,
 "nbformat_minor": 5
}
