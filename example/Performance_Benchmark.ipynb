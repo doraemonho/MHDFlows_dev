{
 "cells": [
  {
   "cell_type": "code",
   "execution_count": 1,
   "id": "silent-prophet",
   "metadata": {
    "tags": []
   },
   "outputs": [
    {
     "name": "stderr",
     "output_type": "stream",
     "text": [
      "┌ Info: FourierFlows will use 8 threads\n",
      "└ @ FourierFlows /home/doraho/.julia/packages/FourierFlows/2BZya/src/FourierFlows.jl:123\n"
     ]
    }
   ],
   "source": [
    "using MHDFlows,PyPlot,CUDA,BenchmarkTools\n",
    "using LinearAlgebra: mul!, ldiv!"
   ]
  },
  {
   "cell_type": "markdown",
   "id": "medieval-guard",
   "metadata": {},
   "source": [
    "# HD"
   ]
  },
  {
   "cell_type": "code",
   "execution_count": 2,
   "id": "polar-consultation",
   "metadata": {},
   "outputs": [
    {
     "data": {
      "text/plain": [
       "ProblemGeneratorTG! (generic function with 1 method)"
      ]
     },
     "execution_count": 2,
     "metadata": {},
     "output_type": "execute_result"
    }
   ],
   "source": [
    "function ProblemGeneratorTG!(prob,L0,U0;N = prob.grid.nx)\n",
    "  R     = 0;\n",
    "\n",
    "  # Output Setting  \n",
    "  kx,ky,kz = fill(0.0,N,N,N),fill(0.0,N,N,N),fill(0.0,N,N,N);\n",
    "  \n",
    "  l = 2*π/L0;\n",
    "    \n",
    "  for k ∈ 1:N, j ∈ 1:N, i ∈ 1:N\n",
    "    kx[i,j,k] = l*prob.grid.x[i];\n",
    "    ky[i,j,k] = l*prob.grid.y[j];\n",
    "    kz[i,j,k] = l*prob.grid.z[k];\n",
    "  end\n",
    "    \n",
    "  pfactor =  4/3*sqrt(2/3);\n",
    "    \n",
    "  θ1 = asin(-(√(3)+R)/2/√(1+R^2));\n",
    "  Φ1 = asin((√(3)-R)/2/√(1+R^2));\n",
    "  ϕ1 = asin(1/(1+R^2));\n",
    "    \n",
    "  ux = @. (sin(kx+θ1)*cos(ky+Φ1)*sin(kz+ϕ1) - cos(kz+θ1)*sin(kx+Φ1)*sin(ky+ϕ1));\n",
    "  \n",
    "  uy = @. (sin(ky+θ1)*cos(kz+Φ1)*sin(kx+ϕ1) - cos(kx+θ1)*sin(ky+Φ1)*sin(kz+ϕ1));\n",
    "  \n",
    "  uz = @. (sin(kz+θ1)*cos(kx+Φ1)*sin(ky+ϕ1) - cos(ky+θ1)*sin(kz+Φ1)*sin(kx+ϕ1));\n",
    "\n",
    "\n",
    "  copyto!(prob.vars.ux, U0*pfactor*ux);\n",
    "  copyto!(prob.vars.uy, U0*pfactor*uy);\n",
    "  copyto!(prob.vars.uz, U0*pfactor*uz);\n",
    "\n",
    "  #Update V  Fourier Conponment\n",
    "  uxh = prob.sol[:, :, :, prob.params.ux_ind];\n",
    "  uyh = prob.sol[:, :, :, prob.params.uy_ind];\n",
    "  uzh = prob.sol[:, :, :, prob.params.uz_ind];\n",
    "\n",
    "  mul!(uxh, prob.grid.rfftplan, prob.vars.ux);   \n",
    "  mul!(uyh, prob.grid.rfftplan, prob.vars.uy);\n",
    "  mul!(uzh, prob.grid.rfftplan, prob.vars.uz);\n",
    "    \n",
    "  prob.sol[:, :, :, prob.params.ux_ind] .= uxh;\n",
    "  prob.sol[:, :, :, prob.params.uy_ind] .= uyh;\n",
    "  prob.sol[:, :, :, prob.params.uz_ind] .= uzh;\n",
    "    \n",
    "  return nothing\n",
    "end"
   ]
  },
  {
   "cell_type": "code",
   "execution_count": 3,
   "id": "underlying-motion",
   "metadata": {},
   "outputs": [
    {
     "name": "stdout",
     "output_type": "stream",
     "text": [
      "  5.389445 seconds (12.02 M allocations: 722.288 MiB, 3.34% gc time, 43.48% compilation time)\n"
     ]
    }
   ],
   "source": [
    "#Simulation's parameters\n",
    "N = 32;\n",
    "Lx = 2π;\n",
    "Re = 50;\n",
    "U0 = 6.5\n",
    "ν = 2*π*U0/Re;\n",
    "dt = 1/500;\n",
    "\n",
    "# Testing the problem\n",
    "# Declare the problem on GPU\n",
    "CPUprob  = Problem(CPU();nx = N,\n",
    "                         Lx = Lx,\n",
    "                          ν = ν,\n",
    "                         nν = 1,\n",
    "           # Timestepper and equation options\n",
    "                         dt = dt,\n",
    "                    stepper = \"RK4\",\n",
    "           # Float type and dealiasing\n",
    "                          T = Float32);\n",
    "CPUprob\n",
    "\n",
    " # Set up the initial condition\n",
    "ProblemGeneratorTG!(CPUprob,2π,U0);\n",
    "t = @time begin TimeIntegrator!(CPUprob,1.0,20;\n",
    "                           usr_dt = dt,\n",
    "                            diags = [],\n",
    "                      loop_number = 100,\n",
    "                             save = false,\n",
    "                         save_loc = \"\",\n",
    "                         filename = \"\",\n",
    "                          dump_dt = 0); end"
   ]
  },
  {
   "cell_type": "code",
   "execution_count": 4,
   "id": "general-freedom",
   "metadata": {},
   "outputs": [
    {
     "name": "stdout",
     "output_type": "stream",
     "text": [
      "  4.322912 seconds (1.25 M allocations: 739.926 MiB, 6.07% gc time, 1.01% compilation time)\n"
     ]
    }
   ],
   "source": [
    "#Simulation's parameters\n",
    "N = 64;\n",
    "Lx = 2π;\n",
    "Re = 50;\n",
    "U0 = 6.5\n",
    "ν = 2*π*U0/Re;\n",
    "dt = 1/500;\n",
    "\n",
    "# Testing the problem\n",
    "# Declare the problem on GPU\n",
    "CPUprob  = Problem(CPU();nx = N,\n",
    "                         Lx = Lx,\n",
    "                          ν = ν,\n",
    "                         nν = 1,\n",
    "           # Timestepper and equation options\n",
    "                         dt = dt,\n",
    "                    stepper = \"RK4\",\n",
    "           # Float type and dealiasing\n",
    "                          T = Float32);\n",
    "CPUprob\n",
    "\n",
    " # Set up the initial condition\n",
    "ProblemGeneratorTG!(CPUprob,2π,U0);\n",
    "t = @time begin TimeIntegrator!(CPUprob,1.0,20;\n",
    "                           usr_dt = dt,\n",
    "                            diags = [],\n",
    "                      loop_number = 100,\n",
    "                             save = false,\n",
    "                         save_loc = \"\",\n",
    "                         filename = \"\",\n",
    "                          dump_dt = 0); end"
   ]
  },
  {
   "cell_type": "code",
   "execution_count": null,
   "id": "spatial-vehicle",
   "metadata": {},
   "outputs": [],
   "source": [
    "#Simulation's parameters\n",
    "N = 128;\n",
    "Lx = 2π;\n",
    "Re = 50;\n",
    "U0 = 6.5\n",
    "ν = 2*π*U0/Re;\n",
    "dt = 1/500;\n",
    "\n",
    "# Testing the problem\n",
    "# Declare the problem on GPU\n",
    "CPUprob  = Problem(CPU();nx = N,\n",
    "                         Lx = Lx,\n",
    "                          ν = ν,\n",
    "                         nν = 1,\n",
    "           # Timestepper and equation options\n",
    "                         dt = dt,\n",
    "                    stepper = \"RK4\",\n",
    "           # Float type and dealiasing\n",
    "                          T = Float32);\n",
    "CPUprob\n",
    "\n",
    " # Set up the initial condition\n",
    "ProblemGeneratorTG!(CPUprob,2π,U0);\n",
    "t = @time begin TimeIntegrator!(CPUprob,1.0,20;\n",
    "                           usr_dt = dt,\n",
    "                            diags = [],\n",
    "                      loop_number = 100,\n",
    "                             save = false,\n",
    "                         save_loc = \"\",\n",
    "                         filename = \"\",\n",
    "                          dump_dt = 0); end"
   ]
  },
  {
   "cell_type": "code",
   "execution_count": null,
   "id": "outer-owner",
   "metadata": {},
   "outputs": [],
   "source": [
    "#Simulation's parameters\n",
    "N = 256;\n",
    "Lx = 2π;\n",
    "Re = 50;\n",
    "U0 = 6.5\n",
    "ν = 2*π*U0/Re;\n",
    "dt = 1/500;\n",
    "\n",
    "# Testing the problem\n",
    "# Declare the problem on GPU\n",
    "CPUprob  = Problem(CPU();nx = N,\n",
    "                         Lx = Lx,\n",
    "                          ν = ν,\n",
    "                         nν = 1,\n",
    "           # Timestepper and equation options\n",
    "                         dt = dt,\n",
    "                    stepper = \"RK4\",\n",
    "           # Float type and dealiasing\n",
    "                          T = Float32);\n",
    "CPUprob\n",
    "\n",
    " # Set up the initial condition\n",
    "ProblemGeneratorTG!(CPUprob,2π,U0);\n",
    "t = @time begin TimeIntegrator!(CPUprob,1.0,20;\n",
    "                           usr_dt = dt,\n",
    "                            diags = [],\n",
    "                      loop_number = 100,\n",
    "                             save = false,\n",
    "                         save_loc = \"\",\n",
    "                         filename = \"\",\n",
    "                          dump_dt = 0); end"
   ]
  },
  {
   "cell_type": "code",
   "execution_count": null,
   "id": "brown-produce",
   "metadata": {},
   "outputs": [],
   "source": []
  }
 ],
 "metadata": {
  "kernelspec": {
   "display_name": "Julia (8 threads) 1.7.3",
   "language": "julia",
   "name": "julia-(8-threads)-1.7"
  },
  "language_info": {
   "file_extension": ".jl",
   "mimetype": "application/julia",
   "name": "julia",
   "version": "1.7.3"
  }
 },
 "nbformat": 4,
 "nbformat_minor": 5
}
