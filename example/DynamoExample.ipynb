{
 "cells": [
  {
   "cell_type": "markdown",
   "id": "unauthorized-straight",
   "metadata": {},
   "source": [
    "# Example 3: Dyanmo with Forcing\n",
    "This example aim to show the implmentation of force module using the MHD solver. The idea of force module is coming from [ApJ..626..853](https://ui.adsabs.harvard.edu/abs/2005ApJ...626..853M/abstract) but more simplified version in this notebook. \n",
    "\n",
    "The result of interation between the force and velocity field would resulting the amplification of weak magnetic field, which usually called the dynamo effect. The example is running on GPU with the resolution of $64^3$. Beaware that the result may not converge on higher resolution, which require the modification of the force module. "
   ]
  },
  {
   "cell_type": "code",
   "execution_count": 1,
   "id": "promising-happiness",
   "metadata": {},
   "outputs": [
    {
     "name": "stderr",
     "output_type": "stream",
     "text": [
      "┌ Info: FourierFlows will use 8 threads\n",
      "└ @ FourierFlows /home/doraho/.julia/packages/FourierFlows/2BZya/src/FourierFlows.jl:123\n"
     ]
    }
   ],
   "source": [
    "using MHDFlows,PyPlot,CUDA\n",
    "using LinearAlgebra: mul!, ldiv!"
   ]
  },
  {
   "cell_type": "code",
   "execution_count": 2,
   "id": "ordinary-flesh",
   "metadata": {},
   "outputs": [
    {
     "data": {
      "text/plain": [
       "CuDevice(0): NVIDIA GeForce RTX 3080"
      ]
     },
     "execution_count": 2,
     "metadata": {},
     "output_type": "execute_result"
    }
   ],
   "source": [
    "device()"
   ]
  },
  {
   "cell_type": "code",
   "execution_count": 3,
   "id": "practical-merchandise",
   "metadata": {},
   "outputs": [
    {
     "data": {
      "text/plain": [
       "AddForceGPU! (generic function with 1 method)"
      ]
     },
     "execution_count": 3,
     "metadata": {},
     "output_type": "execute_result"
    }
   ],
   "source": [
    "#force module\n",
    "#GPU version\n",
    "function AddForceGPU!(N, sol, t, clock, vars, params, grid)\n",
    "    # ∂u_ih∂t + Fv_TG, here we assume F is some constant\n",
    "    F0 = 1.37;\n",
    "    N0 = grid.nx;\n",
    "    l = 2;\n",
    "    T = eltype(grid);\n",
    "    fx,fy,fz = zeros(T,N0,N0,N0),zeros(T,N0,N0,N0),zeros(T,N0,N0,N0);\n",
    "    # Real Space Computation of force function\n",
    "    for k ∈ 1:N0, j ∈ 1:N0, i ∈ 1:N0\n",
    "        xx = l*grid.x[i];\n",
    "        yy = l*grid.y[j];\n",
    "        zz = l*grid.z[k];\n",
    "        # f = F*v_TG\n",
    "        fx[i,j,k] =   sin(xx)*cos(yy)*cos(zz);\n",
    "        fy[i,j,k] =  -cos(xx)*sin(yy)*cos(zz);\n",
    "        fz[i,j,k] =  0;\n",
    "    end\n",
    "\n",
    "    for (u_ind,f_i) ∈ zip([params.ux_ind,params.uy_ind,params.uz_ind],[fx,fy,fz])\n",
    "        @. vars.nonlinh1*=0;\n",
    "        copyto!(vars.nonlin1, F0.*f_i);\n",
    "        fk_i = vars.nonlinh1;\n",
    "        @. fk_i*=0;\n",
    "        mul!(fk_i, grid.rfftplan, vars.nonlin1);  \n",
    "        @. N[:,:,:,u_ind] += fk_i;\n",
    "    end\n",
    "end"
   ]
  },
  {
   "cell_type": "code",
   "execution_count": 4,
   "id": "approximate-waterproof",
   "metadata": {},
   "outputs": [
    {
     "data": {
      "text/plain": [
       "MHDFlows Problem\n",
       "  │    Funtions\n",
       "  │     ├──────── B-field: ON\n",
       "  ├─────├────── VP Method: OFF\n",
       "  │     ├──────────── Dye: OFF\n",
       "  │     └── user function: OFF\n",
       "  │                        \n",
       "  │     Features           \n",
       "  │     ├─────────── grid: grid (on GPU)\n",
       "  │     ├───── parameters: params\n",
       "  │     ├────── variables: vars\n",
       "  └─────├─── state vector: sol\n",
       "        ├─────── equation: eqn\n",
       "        ├────────── clock: clock\n",
       "        └──── timestepper: RK4TimeStepper"
      ]
     },
     "execution_count": 4,
     "metadata": {},
     "output_type": "execute_result"
    }
   ],
   "source": [
    "#parameters\n",
    "N = 64;\n",
    "Lx = 2π;\n",
    "ν,η = 2e-3,5e-3;\n",
    "dt = 1/50;\n",
    "\n",
    "# Testing the problem\n",
    "# Declare the problem on GPU\n",
    "GPUprob  = Problem(GPU();nx = N,\n",
    "                         Lx = Lx,\n",
    "                          ν = ν,\n",
    "                         nν = 1,\n",
    "                       #B-field \n",
    "                    B_field = true,\n",
    "           # Timestepper and equation options\n",
    "                         dt = dt,\n",
    "                    stepper = \"RK4\",\n",
    "                      calcF = AddForceGPU!,\n",
    "           # Float type and dealiasing\n",
    "                          T = Float32);\n",
    "GPUprob"
   ]
  },
  {
   "cell_type": "code",
   "execution_count": 5,
   "id": "cleared-median",
   "metadata": {},
   "outputs": [
    {
     "data": {
      "text/plain": [
       "ProblemGeneratorTG! (generic function with 1 method)"
      ]
     },
     "execution_count": 5,
     "metadata": {},
     "output_type": "execute_result"
    }
   ],
   "source": [
    "function ProblemGeneratorTG!(prob,L0,N)\n",
    "\n",
    "  # Output Setting  \n",
    "  xx,yy,zz = fill(0.0,N,N,N),fill(0.0,N,N,N),fill(0.0,N,N,N);\n",
    "  \n",
    " l = 2*2*π/L0;    \n",
    "  for k ∈ 1:N, j ∈ 1:N, i ∈ 1:N\n",
    "    xx[i,j,k] = l*prob.grid.x[i];\n",
    "    yy[i,j,k] = l*prob.grid.y[j];\n",
    "    zz[i,j,k] = l*prob.grid.z[k];\n",
    "  end\n",
    "    \n",
    "  ux = @.  sin(xx)*cos(yy)*cos(zz);\n",
    "  uy = @.  -cos(xx)*sin(yy)*cos(zz);\n",
    "  uz = @.  fill(0.0,N,N,N);\n",
    "\n",
    "  bx = @. sqrt(1e-3)*ux;\n",
    "  by = @. sqrt(1e-3)*uy;\n",
    "  bz = @. sqrt(1e-3)*uz;        \n",
    "    \n",
    "  copyto!(prob.vars.ux, ux);\n",
    "  copyto!(prob.vars.uy, uy);\n",
    "  copyto!(prob.vars.uz, uz);\n",
    "  copyto!(prob.vars.bx, bx);\n",
    "  copyto!(prob.vars.by, by);\n",
    "  copyto!(prob.vars.bz, bz);\n",
    "\n",
    "  #Update V + B Fourier Conponment\n",
    "  uxh = prob.sol[:, :, :, prob.params.ux_ind];\n",
    "  uyh = prob.sol[:, :, :, prob.params.uy_ind];\n",
    "  uzh = prob.sol[:, :, :, prob.params.uz_ind];\n",
    "    \n",
    "  bxh = prob.sol[:, :, :, prob.params.bx_ind];\n",
    "  byh = prob.sol[:, :, :, prob.params.by_ind];\n",
    "  bzh = prob.sol[:, :, :, prob.params.bz_ind];\n",
    "\n",
    "  mul!(uxh, prob.grid.rfftplan, prob.vars.ux);   \n",
    "  mul!(uyh, prob.grid.rfftplan, prob.vars.uy);\n",
    "  mul!(uzh, prob.grid.rfftplan, prob.vars.uz);\n",
    "  mul!(bxh, prob.grid.rfftplan, prob.vars.bx);\n",
    "  mul!(byh, prob.grid.rfftplan, prob.vars.by);\n",
    "  mul!(bzh, prob.grid.rfftplan, prob.vars.bz);\n",
    "    \n",
    "  prob.sol[:, :, :, prob.params.ux_ind] .= uxh;\n",
    "  prob.sol[:, :, :, prob.params.uy_ind] .= uyh;\n",
    "  prob.sol[:, :, :, prob.params.uz_ind] .= uzh;\n",
    "  prob.sol[:, :, :, prob.params.bx_ind] .= bxh;\n",
    "  prob.sol[:, :, :, prob.params.by_ind] .= byh;\n",
    "  prob.sol[:, :, :, prob.params.bz_ind] .= bzh;\n",
    "      \n",
    "  return nothing\n",
    "end"
   ]
  },
  {
   "cell_type": "code",
   "execution_count": 6,
   "id": "moderate-eating",
   "metadata": {},
   "outputs": [],
   "source": [
    "#function for monitoring the energy\n",
    "function KEfoo(prob)\n",
    "    vx,vy,vz = prob.vars.ux,prob.vars.uy,prob.vars.uz;\n",
    "    return sum(vx.^2+vy.^2 + vz.^2)\n",
    "end\n",
    "\n",
    "function MEfoo(prob)\n",
    "    bx,by,bz = prob.vars.bx,prob.vars.by,prob.vars.bz;\n",
    "    return sum(bx.^2+by.^2 + bz.^2)\n",
    "end\n",
    "\n",
    "KE = Diagnostic(KEfoo, GPUprob);\n",
    "ME = Diagnostic(MEfoo, GPUprob);"
   ]
  },
  {
   "cell_type": "code",
   "execution_count": 7,
   "id": "agreed-brief",
   "metadata": {},
   "outputs": [
    {
     "name": "stdout",
     "output_type": "stream",
     "text": [
      "n = 100, t =      2.0, KE =    391.0, ME=     3.97\n",
      "n = 200, t =      4.0, KE =    402.0, ME=    197.0\n",
      "n = 300, t =      6.0, KE =    378.0, ME=    214.0\n",
      "n = 400, t =      8.0, KE =    376.0, ME=    208.0\n",
      "n = 500, t =     10.0, KE =    370.0, ME=    206.0\n",
      "n = 600, t =     12.0, KE =    369.0, ME=    203.0\n",
      "n = 700, t =     14.0, KE =    368.0, ME=    203.0\n",
      "n = 800, t =     16.0, KE =    372.0, ME=    206.0\n",
      "n = 900, t =     18.0, KE =    364.0, ME=    214.0\n",
      "n = 1000, t =     20.0, KE =    364.0, ME=    217.0\n",
      " 79.929198 seconds (86.41 M CPU allocations: 53.122 GiB, 3.17% gc time) (116.14 k GPU allocations: 112.589 GiB, 0.61% memmgmt time)\n"
     ]
    }
   ],
   "source": [
    "#GPU for 64^3\n",
    "L0 = 2;\n",
    "ProblemGeneratorTG!(GPUprob,L0,N)\n",
    "\n",
    "CUDA.@time TimeIntegrator!(GPUprob,20.0,1000;\n",
    "                   usr_dt = dt,\n",
    "                    diags = [KE,ME],\n",
    "              loop_number = 100,\n",
    "                     save = false,\n",
    "                 save_loc = \"\",\n",
    "                 filename = \"\",\n",
    "                  dump_dt = 0)"
   ]
  },
  {
   "cell_type": "code",
   "execution_count": 8,
   "id": "otherwise-watch",
   "metadata": {},
   "outputs": [
    {
     "data": {
      "image/png": "[encoded data removed]",
      "text/plain": [
       "Figure(PyObject <Figure size 640x480 with 1 Axes>)"
      ]
     },
     "metadata": {},
     "output_type": "display_data"
    },
    {
     "data": {
      "text/plain": [
       "PyObject Text(30.000000000000014, 0.5, 'Energy [code unit]')"
      ]
     },
     "execution_count": 8,
     "metadata": {},
     "output_type": "execute_result"
    }
   ],
   "source": [
    "t  = KE.t[2:end-10];\n",
    "uu = KE.data[2:end-10];\n",
    "bb = ME.data[2:end-10];\n",
    "\n",
    "semilogy(t,uu.*(GPUprob.grid.dx)^6,\"r\",label=L\"U^2\")\n",
    "semilogy(t,bb.*(GPUprob.grid.dx)^6,\"b\",label=L\"B^2\")\n",
    "legend()\n",
    "xlabel(\"t  [code unit]\",size=16)\n",
    "ylabel(\"Energy [code unit]\",size=16)"
   ]
  }
 ],
 "metadata": {
  "kernelspec": {
   "display_name": "Julia (8 threads) 1.7.3",
   "language": "julia",
   "name": "julia-(8-threads)-1.7"
  },
  "language_info": {
   "file_extension": ".jl",
   "mimetype": "application/julia",
   "name": "julia",
   "version": "1.7.3"
  }
 },
 "nbformat": 4,
 "nbformat_minor": 5
}
